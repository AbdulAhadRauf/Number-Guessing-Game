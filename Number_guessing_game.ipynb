{
  "nbformat": 4,
  "nbformat_minor": 0,
  "metadata": {
    "colab": {
      "provenance": [],
      "authorship_tag": "ABX9TyN0AU+a5vjk9whZrksJgRP6",
      "include_colab_link": true
    },
    "kernelspec": {
      "name": "python3",
      "display_name": "Python 3"
    },
    "language_info": {
      "name": "python"
    }
  },
  "cells": [
    {
      "cell_type": "markdown",
      "metadata": {
        "id": "view-in-github",
        "colab_type": "text"
      },
      "source": [
        "<a href=\"https://colab.research.google.com/github/AbdulAhadRauf/Number-Guessing-Game/blob/main/Number_guessing_game.ipynb\" target=\"_parent\"><img src=\"https://colab.research.google.com/assets/colab-badge.svg\" alt=\"Open In Colab\"/></a>"
      ]
    },
    {
      "cell_type": "markdown",
      "source": [
        "# Number Guessing Game"
      ],
      "metadata": {
        "id": "wYO6jcoTUSBu"
      }
    },
    {
      "cell_type": "code",
      "source": [
        "from google.colab import output\n",
        "import random"
      ],
      "metadata": {
        "id": "-XhD5lOft8c2"
      },
      "execution_count": null,
      "outputs": []
    },
    {
      "cell_type": "code",
      "source": [
        "EASY_LEVEL = 10\n",
        "HARD_LEVEL = 5\n",
        "\n",
        "def check(number,guess,turn):\n",
        "  if guess > number:\n",
        "    print(\"High\")\n",
        "    return turn - 1\n",
        "  elif guess < number:\n",
        "    print(\"Low\")\n",
        "    return turn - 1\n",
        "  else:\n",
        "    print(\"Yay! You guessed it!!\")\n",
        " \n",
        "def difficulty():\n",
        "  level = input(\"Enter the Difficulty, Easy or Hard: \").lower()\n",
        "  if level == \"easy\":\n",
        "    return EASY_LEVEL\n",
        "  else:\n",
        "    return HARD_LEVEL\n",
        "def game():\n",
        "  print(\"Welcome to Number Guess!\")\n",
        "  number = random.randint(1,100)\n",
        "  turn = difficulty()\n",
        "  guess=0\n",
        "  \n",
        "  while guess!=number:\n",
        "    print(f\"You have {turn} tries left\")\n",
        "    guess = int(input(\"Enter a Number to guess: \"))\n",
        "    turn = check(number,guess,turn)\n",
        "    if turn ==0:\n",
        "      print(\"0 Tries left the number was \", number)\n",
        "      return\n",
        "\n",
        "while input(\"Do you want to play a game of Guessing? yes/no \").lower()==\"yes\":\n",
        "  output.clear()\n",
        "  game()"
      ],
      "metadata": {
        "colab": {
          "base_uri": "https://localhost:8080/"
        },
        "id": "g_6ixrS_hvq0",
        "outputId": "485a074a-c44a-4055-91e7-794f9739b4b2"
      },
      "execution_count": null,
      "outputs": [
        {
          "output_type": "stream",
          "name": "stdout",
          "text": [
            "Welcome to Number Guess!\n",
            "Enter the Difficulty, Easy or Hard: easy\n",
            "You have 10 tries left\n",
            "Enter a Number to guess: 50\n",
            "Low\n",
            "You have 9 tries left\n",
            "Enter a Number to guess: 70\n",
            "Low\n",
            "You have 8 tries left\n",
            "Enter a Number to guess: 80\n",
            "Low\n",
            "You have 7 tries left\n",
            "Enter a Number to guess: 90\n",
            "High\n",
            "You have 6 tries left\n",
            "Enter a Number to guess: 81\n",
            "Low\n",
            "You have 5 tries left\n",
            "Enter a Number to guess: 82\n",
            "Low\n",
            "You have 4 tries left\n",
            "Enter a Number to guess: 85\n",
            "Low\n",
            "You have 3 tries left\n",
            "Enter a Number to guess: 88\n",
            "High\n",
            "You have 2 tries left\n",
            "Enter a Number to guess: 86\n",
            "Yay! You guessed it!!\n"
          ]
        }
      ]
    },
    {
      "cell_type": "code",
      "source": [],
      "metadata": {
        "id": "Xw8MhcACugiE"
      },
      "execution_count": null,
      "outputs": []
    }
  ]
}